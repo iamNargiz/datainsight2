{
 "cells": [
  {
   "cell_type": "code",
   "execution_count": 20,
   "id": "84bcdfbd",
   "metadata": {},
   "outputs": [
    {
     "name": "stdout",
     "output_type": "stream",
     "text": [
      "Enter the number: 86\n"
     ]
    }
   ],
   "source": [
    "num = int(input('Enter the number: '))\n"
   ]
  },
  {
   "cell_type": "code",
   "execution_count": 21,
   "id": "6eaafe9d",
   "metadata": {},
   "outputs": [
    {
     "name": "stdout",
     "output_type": "stream",
     "text": [
      "86 is not a prime number\n"
     ]
    }
   ],
   "source": [
    "\n",
    "# If given number is greater than 1\n",
    "if num > 1:\n",
    " \n",
    "    # Iterate from 2 to n / 2\n",
    "    for i in range(2, int(num/2)+1):\n",
    " \n",
    "        # If num is divisible by any number between\n",
    "        # 2 and n / 2, it is not prime\n",
    "        if (num % i) == 0:\n",
    "            print(num, \"is not a prime number\")\n",
    "            break\n",
    "    else:\n",
    "        print(num, \"is a prime number\")\n",
    " \n",
    "else:\n",
    "    print(num, \"is not a prime number\")"
   ]
  },
  {
   "cell_type": "code",
   "execution_count": null,
   "id": "fb14bda0",
   "metadata": {},
   "outputs": [],
   "source": []
  }
 ],
 "metadata": {
  "kernelspec": {
   "display_name": "Python 3",
   "language": "python",
   "name": "python3"
  },
  "language_info": {
   "codemirror_mode": {
    "name": "ipython",
    "version": 3
   },
   "file_extension": ".py",
   "mimetype": "text/x-python",
   "name": "python",
   "nbconvert_exporter": "python",
   "pygments_lexer": "ipython3",
   "version": "3.9.5"
  }
 },
 "nbformat": 4,
 "nbformat_minor": 5
}
